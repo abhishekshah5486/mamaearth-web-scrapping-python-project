{
 "cells": [
  {
   "cell_type": "code",
   "execution_count": 9,
   "id": "da5bfb5c",
   "metadata": {},
   "outputs": [],
   "source": [
    "import requests\n",
    "from bs4 import BeautifulSoup\n",
    "import pandas as pd\n",
    "import numpy as np\n",
    "\n",
    "URL = \"https://mamaearth.in/product-category/makeup-products\"\n",
    "HEADERS = {'User-Agent':'Mozilla/5.0 (Macintosh; Intel Mac OS X 10_15_7) AppleWebKit/537.36 (KHTML, like Gecko) Chrome/118.0.0.0 Safari/537.36','Accept-Language': 'en-US,en;q=0.5'}"
   ]
  },
  {
   "cell_type": "code",
   "execution_count": 10,
   "id": "12325e9e",
   "metadata": {},
   "outputs": [
    {
     "name": "stdout",
     "output_type": "stream",
     "text": [
      "Data Fetched Successfully !\n"
     ]
    }
   ],
   "source": [
    "webpage = requests.get(URL,headers=HEADERS)\n",
    "\n",
    "if (webpage.status_code == 200 ):\n",
    "    print(\"Data Fetched Successfully !\")\n",
    "else:\n",
    "    print(f\"Error{webpage.status_code} !\")\n",
    "\n",
    "soup = BeautifulSoup(webpage.content,'html.parser')\n"
   ]
  },
  {
   "cell_type": "code",
   "execution_count": 37,
   "id": "acda0005",
   "metadata": {},
   "outputs": [],
   "source": [
    "# Extracting product links\n",
    "\n",
    "product_links = soup.find_all(\"div\",attrs={'class':'ProductCard_Wrapper_DisplayArea'})\n",
    "# for links_tag in links:\n",
    "# product_link = \"https://mamaearth.in\" + links[0].find(\"a\").get('href')\n",
    "\n",
    "links_list = []\n",
    "for link in product_links:\n",
    "    product_link =  \"https://mamaearth.in\" + link.find(\"a\").get('href')\n",
    "    links_list.append(product_link)\n",
    "\n",
    "scrap_data = {'Product_Name':[],'Description':[],'Price':[],'Rating out of 5':[]}\n"
   ]
  },
  {
   "cell_type": "code",
   "execution_count": 13,
   "id": "0bb656c0",
   "metadata": {},
   "outputs": [],
   "source": [
    "# Function to extract product details:\n",
    "\n",
    "#Function to extract product name\n",
    "\n",
    "def fetch_productName(new_soup):\n",
    "    \n",
    "    try:\n",
    "        product_name = new_soup.find(\"h1\",attrs={'class':'ProductDetailsRevamp__ProdName-sc-1w9tx2u-2 hrSRwG'}).text.strip()\n",
    "    except AttributeError:\n",
    "        product_name = \"Not Available\"\n",
    "        \n",
    "    return product_name\n",
    "\n",
    "# Function to extract product description\n",
    "\n",
    "def fetch_productDescription(new_soup):\n",
    "    \n",
    "    try:\n",
    "        product_description = new_soup.find(\"div\",attrs={'class':'subtitle'}).text.strip()\n",
    "    except AttributeError:\n",
    "        product_description = \"NIL\"\n",
    "        \n",
    "    return product_description\n",
    "\n",
    "# Function to extract product price\n",
    "\n",
    "def fetch_productPrice(new_soup):\n",
    "    \n",
    "    try:\n",
    "        product_price = new_soup.find(\"td\",attrs={'class':'price'}).text.strip()\n",
    "    except AttributeError:\n",
    "        product_price = \"Not Available\"\n",
    "        \n",
    "    return product_price\n",
    "\n",
    "#Function to extract product Rating\n",
    "\n",
    "def fetch_productRating(new_soup):\n",
    "    \n",
    "    try:\n",
    "        rating_tag = new_soup.find(\"a\",attrs={'class':'rating'})\n",
    "        rating_soup = BeautifulSoup(rating_tag.prettify())\n",
    "        \n",
    "        span_tags = rating_soup.find_all(\"span\")\n",
    "        product_rating = span_tags[0].text.strip()+\" \"+span_tags[1].text.strip()\n",
    "    except AttributeError:\n",
    "        product_rating = \"NA\"\n",
    "        \n",
    "    return product_rating\n",
    "        \n",
    "    "
   ]
  },
  {
   "cell_type": "code",
   "execution_count": 27,
   "id": "01281dc7",
   "metadata": {
    "scrolled": false
   },
   "outputs": [],
   "source": [
    "# Looping through all the links and scraping data :\n",
    "\n",
    "for link in links_list:\n",
    "    new_webpage = requests.get(link,headers=HEADERS)\n",
    "    \n",
    "    if (new_webpage.status_code != 200 ):\n",
    "        continue\n",
    "    new_soup = BeautifulSoup(new_webpage.content,'html.parser')\n",
    "    \n",
    "    scrap_data['Product_Name'].append(fetch_productName(new_soup))\n",
    "    scrap_data['Description'].append(fetch_productDescription(new_soup))\n",
    "    scrap_data['Price'].append(fetch_productPrice(new_soup))\n",
    "    scrap_data['Rating out of 5'].append(fetch_productRating(new_soup))\n",
    "    "
   ]
  },
  {
   "cell_type": "code",
   "execution_count": 38,
   "id": "91a996c8",
   "metadata": {},
   "outputs": [],
   "source": [
    "# Generating a dataframe using pandas library\n",
    "\n",
    "mamaEarth_df = pd.DataFrame.from_dict(scrap_data)\n",
    "\n",
    "# Converting the scrap data to a CSV File\n",
    "\n",
    "mamaEarth_df.to_csv(\"mamaEarth_scrapData.csv\",index=True)"
   ]
  },
  {
   "cell_type": "code",
   "execution_count": null,
   "id": "a7f4cb53",
   "metadata": {},
   "outputs": [],
   "source": [
    "mamaEarth_df"
   ]
  },
  {
   "cell_type": "code",
   "execution_count": null,
   "id": "813c0164",
   "metadata": {},
   "outputs": [],
   "source": []
  }
 ],
 "metadata": {
  "kernelspec": {
   "display_name": "Python 3 (ipykernel)",
   "language": "python",
   "name": "python3"
  },
  "language_info": {
   "codemirror_mode": {
    "name": "ipython",
    "version": 3
   },
   "file_extension": ".py",
   "mimetype": "text/x-python",
   "name": "python",
   "nbconvert_exporter": "python",
   "pygments_lexer": "ipython3",
   "version": "3.11.5"
  }
 },
 "nbformat": 4,
 "nbformat_minor": 5
}
