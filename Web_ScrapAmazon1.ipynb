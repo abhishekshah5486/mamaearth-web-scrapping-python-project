{
 "cells": [
  {
   "cell_type": "code",
   "execution_count": 3,
   "id": "f2cff5c6",
   "metadata": {},
   "outputs": [
    {
     "name": "stdout",
     "output_type": "stream",
     "text": [
      "Error 503 !\n"
     ]
    }
   ],
   "source": [
    "import requests\n",
    "from bs4 import BeautifulSoup\n",
    "import pandas as pd\n",
    "\n",
    "\n",
    "URL = \"https://www.amazon.in/s?k=macbook&crid=275UJ72KFGPOV&sprefix=macboo%2Caps%2C367&ref=nb_sb_noss_2\"\n",
    "HEADERS = {'User-Agent':'Mozilla/5.0 (Macintosh; Intel Mac OS X 10_15_7) AppleWebKit/537.36 (KHTML, like Gecko) Chrome/118.0.0.0 Safari/537.36','Accept-Language':'en-US,en;q=0.5'}\n",
    "\n",
    "\n",
    "webpage = requests.get(URL,headers=HEADERS)\n",
    "soup = BeautifulSoup(webpage.content,'html.parser')\n",
    "if (webpage.status_code == 200):\n",
    "    print(\"Data Fetched Successfully !\")\n",
    "else:\n",
    "    print(f\"Error {webpage.status_code} !\")\n",
    "    "
   ]
  },
  {
   "cell_type": "code",
   "execution_count": 4,
   "id": "03a0d833",
   "metadata": {},
   "outputs": [
    {
     "ename": "TypeError",
     "evalue": "write() argument must be str, not method",
     "output_type": "error",
     "traceback": [
      "\u001b[0;31m---------------------------------------------------------------------------\u001b[0m",
      "\u001b[0;31mTypeError\u001b[0m                                 Traceback (most recent call last)",
      "Cell \u001b[0;32mIn[4], line 3\u001b[0m\n\u001b[1;32m      1\u001b[0m File \u001b[38;5;241m=\u001b[39m \u001b[38;5;124m'\u001b[39m\u001b[38;5;124mAmazon_webscrap.html\u001b[39m\u001b[38;5;124m'\u001b[39m\n\u001b[1;32m      2\u001b[0m \u001b[38;5;28;01mwith\u001b[39;00m \u001b[38;5;28mopen\u001b[39m (File,\u001b[38;5;124m'\u001b[39m\u001b[38;5;124mw\u001b[39m\u001b[38;5;124m'\u001b[39m) \u001b[38;5;28;01mas\u001b[39;00m f:\n\u001b[0;32m----> 3\u001b[0m     f\u001b[38;5;241m.\u001b[39mwrite(soup\u001b[38;5;241m.\u001b[39mprettify)\n",
      "\u001b[0;31mTypeError\u001b[0m: write() argument must be str, not method"
     ]
    }
   ],
   "source": [
    "File = 'Amazon_webscrap.html'\n",
    "with open (File,'w') as f:\n",
    "    f.write(soup.prettify)\n",
    "    "
   ]
  },
  {
   "cell_type": "code",
   "execution_count": null,
   "id": "22072afe",
   "metadata": {},
   "outputs": [],
   "source": [
    "File1 = open(File)\n",
    "new_soup = soup(File1)"
   ]
  },
  {
   "cell_type": "code",
   "execution_count": 34,
   "id": "b72e1fc6",
   "metadata": {},
   "outputs": [],
   "source": [
    "links = soup.find_all(\"a\",attrs={'class':'a-link-normal s-underline-text s-underline-link-text s-link-style a-text-normal'})"
   ]
  },
  {
   "cell_type": "code",
   "execution_count": 5,
   "id": "be8157c5",
   "metadata": {
    "scrolled": true
   },
   "outputs": [],
   "source": [
    "link = links[0].get('href')\n",
    "product_link = 'https://www.amazon.in' + link\n",
    "print(product_link)\n"
   ]
  },
  {
   "cell_type": "code",
   "execution_count": 3,
   "id": "71d4ee13",
   "metadata": {},
   "outputs": [],
   "source": [
    "new_webpage = requests.get(product_link,headers=HEADERS)\n",
    "new_soup = BeautifulSoup(new_webpage.content,'html.parser')\n",
    "\n",
    "if (new_webpage.status_code == 200):\n",
    "    print(\"Data Fetched Successfully !\")\n",
    "else:\n",
    "    print(f\"Error {new_webpage.status_code} !\")\n",
    "\n",
    "    \n"
   ]
  },
  {
   "cell_type": "code",
   "execution_count": 6,
   "id": "39687d02",
   "metadata": {},
   "outputs": [],
   "source": [
    "new_soup.find('span', attrs={'id':'productTitle'}).text.strip()\n",
    "# Extracting the product name"
   ]
  },
  {
   "cell_type": "code",
   "execution_count": null,
   "id": "0a8e38be",
   "metadata": {},
   "outputs": [],
   "source": [
    "# Extracting the price of product\n",
    "new_soup.find('span', attrs={'class':''}).find('span',attrs='class':'')"
   ]
  },
  {
   "cell_type": "code",
   "execution_count": null,
   "id": "11a17e34",
   "metadata": {},
   "outputs": [],
   "source": []
  },
  {
   "cell_type": "code",
   "execution_count": null,
   "id": "f8f130d3",
   "metadata": {},
   "outputs": [],
   "source": []
  }
 ],
 "metadata": {
  "kernelspec": {
   "display_name": "Python 3 (ipykernel)",
   "language": "python",
   "name": "python3"
  },
  "language_info": {
   "codemirror_mode": {
    "name": "ipython",
    "version": 3
   },
   "file_extension": ".py",
   "mimetype": "text/x-python",
   "name": "python",
   "nbconvert_exporter": "python",
   "pygments_lexer": "ipython3",
   "version": "3.11.5"
  }
 },
 "nbformat": 4,
 "nbformat_minor": 5
}
